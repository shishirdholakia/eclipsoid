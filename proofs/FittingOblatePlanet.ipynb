{
 "cells": [
  {
   "cell_type": "code",
   "execution_count": 1,
   "metadata": {},
   "outputs": [
    {
     "name": "stderr",
     "output_type": "stream",
     "text": [
      "/Users/shishir/opt/anaconda3/envs/py312/lib/python3.12/site-packages/tqdm/auto.py:21: TqdmWarning: IProgress not found. Please update jupyter and ipywidgets. See https://ipywidgets.readthedocs.io/en/stable/user_install.html\n",
      "  from .autonotebook import tqdm as notebook_tqdm\n"
     ]
    },
    {
     "ename": "ModuleNotFoundError",
     "evalue": "No module named 'arviz'",
     "output_type": "error",
     "traceback": [
      "\u001b[0;31m---------------------------------------------------------------------------\u001b[0m",
      "\u001b[0;31mModuleNotFoundError\u001b[0m                       Traceback (most recent call last)",
      "Cell \u001b[0;32mIn[1], line 28\u001b[0m\n\u001b[1;32m     26\u001b[0m \u001b[38;5;28;01mfrom\u001b[39;00m\u001b[38;5;250m \u001b[39m\u001b[38;5;21;01mjaxoplanet\u001b[39;00m\u001b[38;5;250m \u001b[39m\u001b[38;5;28;01mimport\u001b[39;00m light_curves, orbits\n\u001b[1;32m     27\u001b[0m \u001b[38;5;28;01mfrom\u001b[39;00m\u001b[38;5;250m \u001b[39m\u001b[38;5;21;01mjaxoplanet\u001b[39;00m\u001b[38;5;21;01m.\u001b[39;00m\u001b[38;5;21;01mlight_curves\u001b[39;00m\u001b[38;5;250m \u001b[39m\u001b[38;5;28;01mimport\u001b[39;00m limb_dark_light_curve\n\u001b[0;32m---> 28\u001b[0m \u001b[38;5;28;01mimport\u001b[39;00m\u001b[38;5;250m \u001b[39m\u001b[38;5;21;01marviz\u001b[39;00m\u001b[38;5;250m \u001b[39m\u001b[38;5;28;01mas\u001b[39;00m\u001b[38;5;250m \u001b[39m\u001b[38;5;21;01maz\u001b[39;00m\n\u001b[1;32m     29\u001b[0m \u001b[38;5;28;01mimport\u001b[39;00m\u001b[38;5;250m \u001b[39m\u001b[38;5;21;01mcorner\u001b[39;00m\n\u001b[1;32m     31\u001b[0m \u001b[38;5;28;01mfrom\u001b[39;00m\u001b[38;5;250m \u001b[39m\u001b[38;5;21;01meclipsoid\u001b[39;00m\u001b[38;5;21;01m.\u001b[39;00m\u001b[38;5;21;01mlegacy\u001b[39;00m\u001b[38;5;21;01m.\u001b[39;00m\u001b[38;5;21;01mlight_curve\u001b[39;00m\u001b[38;5;250m \u001b[39m\u001b[38;5;28;01mimport\u001b[39;00m oblate_lightcurve_dict, compute_bounds\n",
      "\u001b[0;31mModuleNotFoundError\u001b[0m: No module named 'arviz'"
     ]
    }
   ],
   "source": [
    "\n",
    "import sys\n",
    "import os\n",
    "sys.path.append(\"..\")\n",
    "\n",
    "import jax.numpy as jnp\n",
    "import jax\n",
    "import numpy as np\n",
    "import matplotlib.pyplot as plt\n",
    "from jax import grad, jit, vmap\n",
    "import numpyro\n",
    "from numpyro import distributions as dist\n",
    "from numpyro import infer\n",
    "\n",
    "from numpyro_ext import distributions as distx\n",
    "from numpyro_ext import info, optim\n",
    "\n",
    "numpyro.set_host_device_count(\n",
    "    2\n",
    ")  # For multi-core parallelism (useful when running multiple MCMC chains in parallel)\n",
    "numpyro.set_platform(\"cpu\")  # For CPU (use \"gpu\" for GPU)\n",
    "jax.config.update(\n",
    "    \"jax_enable_x64\", True\n",
    ")\n",
    "#jax.config.update('jax_disable_jit', True)\n",
    "\n",
    "from jaxoplanet import light_curves, orbits\n",
    "from jaxoplanet.light_curves import limb_dark_light_curve\n",
    "import arviz as az\n",
    "import corner\n",
    "\n",
    "from eclipsoid.legacy.light_curve import oblate_lightcurve_dict, compute_bounds\n",
    "import os\n",
    "os.environ[\"XLA_FLAGS\"] = \"--xla_force_host_platform_device_count=2\"\n",
    "\n",
    "oblate_lightcurve = jit(oblate_lightcurve_dict)\n",
    "grad = jit(jax.jacrev(oblate_lightcurve_dict))"
   ]
  },
  {
   "cell_type": "code",
   "execution_count": null,
   "metadata": {},
   "outputs": [],
   "source": [
    "#Fiducial planet parameters:\n",
    "params = {'period':300.456,\n",
    "          'radius':jnp.sqrt(0.1**2/(1-0.1)),\n",
    "          'u':jnp.array([0.3,0.2]),\n",
    "          'f':0.1,\n",
    "          'bo':0.65,\n",
    "          'theta':0.6,\n",
    "          'duration': 0.4\n",
    "}\n",
    "# The light curve calculation requires an orbit\n",
    "\n",
    "# Compute a limb-darkened light curve using starry\n",
    "t = jnp.linspace(-0.3, 0.3, 1200)\n",
    "lc = oblate_lightcurve(params,t)\n",
    "\n",
    "plt.plot(t, lc, color=\"C0\", lw=2)\n",
    "plt.plot(t[29], lc[29], 'r.')\n",
    "plt.ylabel(\"relative flux\")\n",
    "plt.xlabel(\"time [days]\")\n",
    "_ = plt.xlim(t.min(), t.max())"
   ]
  },
  {
   "cell_type": "code",
   "execution_count": null,
   "metadata": {},
   "outputs": [],
   "source": [
    "orbit = orbits.TransitOrbit(period=params['period'], radius_ratio=params['radius'], impact_param=params['bo'], duration=params['duration'])\n",
    "xo, yo = orbit.relative_position(t)[0].magnitude,orbit.relative_position(t)[1].magnitude"
   ]
  },
  {
   "cell_type": "code",
   "execution_count": null,
   "metadata": {},
   "outputs": [],
   "source": [
    "xo_rot, yo_rot = xo*jnp.cos(params['theta'])-yo*jnp.sin(params['theta']), xo*jnp.sin(params['theta'])+yo*jnp.cos(params['theta'])\n",
    "plt.plot(xo_rot, yo_rot, 'C0')\n",
    "plt.plot(xo_rot[29], yo_rot[29], 'r.')"
   ]
  },
  {
   "cell_type": "code",
   "execution_count": null,
   "metadata": {},
   "outputs": [],
   "source": [
    "%%timeit\n",
    "lc = oblate_lightcurve(params,t).block_until_ready()"
   ]
  },
  {
   "cell_type": "code",
   "execution_count": null,
   "metadata": {},
   "outputs": [],
   "source": [
    "%%timeit\n",
    "grads = jax.block_until_ready(grad(params, t))"
   ]
  },
  {
   "cell_type": "code",
   "execution_count": null,
   "metadata": {},
   "outputs": [],
   "source": [
    "grads = grad(params, t)\n",
    "_, axes = plt.subplots(len(grads.keys()), 1, figsize=(6, 10), sharex=True)\n",
    "for n, key in enumerate(grads.keys()):\n",
    "    axes[n].plot(t, grads[key])\n",
    "    axes[n].set_ylabel(key)"
   ]
  },
  {
   "cell_type": "code",
   "execution_count": null,
   "metadata": {},
   "outputs": [],
   "source": [
    "np.random.seed(11)\n",
    "period_true = np.random.uniform(5, 20)\n",
    "t = np.linspace(0.9,1.1,1000)\n",
    "yerr = 10*1e-6\n",
    "\n",
    "true_params = {'period':period_true,\n",
    "               't0':1.0,\n",
    "                'radius':0.1446,\n",
    "                'bo':0.01,\n",
    "                'u':jnp.array([0.3, 0.2]),\n",
    "                'f':0.1,\n",
    "                'theta':np.radians(35),\n",
    "                'duration': 0.12\n",
    "} \n",
    "\n",
    "print(true_params)\n",
    "\n",
    "# Compute a limb-darkened light curve using starry\n",
    "lc_true = oblate_lightcurve(true_params, t-true_params['t0'])\n",
    "\n",
    "lc = lc_true + yerr*np.random.normal(size=len(t))\n",
    "\n",
    "ax = plt.subplot()\n",
    "ax.plot(t, lc, 'C0.')\n",
    "ax.plot(t, lc_true, color='k')\n",
    "ax.set_ylabel(\"relative flux\")\n",
    "ax.set_xlabel(\"Time\");"
   ]
  },
  {
   "cell_type": "code",
   "execution_count": null,
   "metadata": {},
   "outputs": [],
   "source": [
    "def model(t, yerr, y=None):\n",
    "    # If we wanted to fit for all the parameters, we could use the following,\n",
    "    # but we'll keep these fixed for simplicity.\n",
    "    \n",
    "    #log_duration = numpyro.sample(\"log_duration\", dist.Uniform(jnp.log(0.08), jnp.log(0.2)))\n",
    "    #b = numpyro.sample(\"b\", dist.Uniform(0.0, 1.0))\n",
    "\n",
    "    #log_jitter = numpyro.sample(\"log_jitter\", dist.Normal(jnp.log(yerr), 1.0))\n",
    "    r_circ = numpyro.sample(\"r_circ\", dist.Uniform(0.01, 0.2))\n",
    "    u = numpyro.sample(\"u\", distx.QuadLDParams())\n",
    "    bo = numpyro.sample(\"bo\", dist.Uniform(0.0,1.))\n",
    "    \n",
    "    #parametrize f, theta using a unit disk\n",
    "    hk = numpyro.sample(\"hk\", distx.UnitDisk())\n",
    "    f = numpyro.deterministic(\"f\", (hk[0] ** 2 + hk[1] ** 2)/2)\n",
    "    theta = numpyro.deterministic(\"theta\", jnp.arctan2(hk[1], hk[0])/2)\n",
    "    \n",
    "    # The duration\n",
    "    log_d = numpyro.sample(\"log_d\", numpyro.distributions.Normal(jnp.log(0.12), 0.01))\n",
    "    duration = numpyro.deterministic(\"duration\", jnp.exp(log_d))\n",
    "    \n",
    "    params = {\n",
    "        'period':period_true,\n",
    "        't0': 1.0,\n",
    "        \"radius\": jnp.sqrt(r_circ**2/(1-f)),\n",
    "        'bo':bo,\n",
    "        'u': u,\n",
    "        'f':f, \n",
    "        'theta':theta,\n",
    "        'duration': duration\n",
    "    }\n",
    "    y_pred = oblate_lightcurve(params, t-params['t0'])\n",
    "    numpyro.deterministic(\"light_curve\", y_pred)\n",
    "    numpyro.sample(\n",
    "        \"flux\",\n",
    "        dist.Normal(y_pred, jnp.sqrt(yerr**2) #+ jnp.exp(2 * log_jitter))\n",
    "                    ),\n",
    "        obs=y,\n",
    "    )"
   ]
  },
  {
   "cell_type": "code",
   "execution_count": null,
   "metadata": {},
   "outputs": [],
   "source": [
    "n_prior_samples = 3000\n",
    "prior_samples = numpyro.infer.Predictive(model, num_samples=n_prior_samples)(\n",
    "    jax.random.PRNGKey(0), t, yerr\n",
    ")\n",
    "\n",
    "# Let's make it into an arviz InferenceData object.\n",
    "# To do so we'll first need to reshape the samples to be of shape (chains, draws, *shape)\n",
    "converted_prior_samples = {\n",
    "    f\"{p}\": np.expand_dims(prior_samples[p], axis=0) for p in prior_samples\n",
    "}\n",
    "prior_samples_inf_data = az.from_dict(converted_prior_samples)"
   ]
  },
  {
   "cell_type": "code",
   "execution_count": null,
   "metadata": {},
   "outputs": [],
   "source": [
    "# Plot the corner plot\n",
    "fig = plt.figure(figsize=(12, 12))\n",
    "_ = corner.corner(\n",
    "    prior_samples_inf_data,\n",
    "    fig=fig,\n",
    "    var_names=['r_circ', 'bo', 'u', 'f', 'theta', 'duration'],\n",
    "    truths=[jnp.sqrt(true_params['radius']**2*(1-true_params['f'])), true_params['bo'], true_params['u'][0], true_params['u'][1], true_params['f'], true_params['theta'], true_params['duration']],\n",
    "    show_titles=True,\n",
    "    title_kwargs={\"fontsize\": 10},\n",
    "    label_kwargs={\"fontsize\": 12},\n",
    ")"
   ]
  },
  {
   "cell_type": "markdown",
   "metadata": {},
   "source": [
    "### Oblate MCMC Fit"
   ]
  },
  {
   "cell_type": "code",
   "execution_count": null,
   "metadata": {},
   "outputs": [],
   "source": [
    "init_params = {'r_circ':jnp.sqrt(true_params['radius']**2*(1-true_params['f'])),\n",
    "               'u':jnp.array([0.3, 0.2]),\n",
    "                'bo':0.04,\n",
    "                'log_d': jnp.log(0.12),\n",
    "                'hk':jnp.array([jnp.sqrt(0.2)*jnp.sin(jnp.radians(20)), jnp.sqrt(0.2)*jnp.cos(jnp.radians(20))])\n",
    "               \n",
    "}"
   ]
  },
  {
   "cell_type": "code",
   "execution_count": null,
   "metadata": {},
   "outputs": [],
   "source": [
    "import numpyro_ext.distributions, numpyro_ext.optim\n",
    "\n",
    "\n",
    "run_optim = numpyro_ext.optim.optimize(\n",
    "        model,\n",
    "        init_strategy=numpyro.infer.init_to_value(values=init_params),\n",
    "        return_info=True\n",
    "    )\n",
    "\n",
    "opt_params, status = run_optim(jax.random.PRNGKey(2), t, yerr, y=lc)"
   ]
  },
  {
   "cell_type": "code",
   "execution_count": null,
   "metadata": {},
   "outputs": [],
   "source": [
    "status"
   ]
  },
  {
   "cell_type": "code",
   "execution_count": null,
   "metadata": {},
   "outputs": [],
   "source": [
    "true_params"
   ]
  },
  {
   "cell_type": "code",
   "execution_count": null,
   "metadata": {},
   "outputs": [],
   "source": [
    "opt_params"
   ]
  },
  {
   "cell_type": "code",
   "execution_count": null,
   "metadata": {},
   "outputs": [],
   "source": [
    "opt_params['light_curve'].min()"
   ]
  },
  {
   "cell_type": "code",
   "execution_count": null,
   "metadata": {},
   "outputs": [],
   "source": [
    "fig, (ax, ax1) = plt.subplots(2,1,figsize=(7,7), gridspec_kw={'height_ratios': [3, 1]})\n",
    "ax.plot(t, lc, 'C0.')\n",
    "ax.plot(t, lc_true, color='k')\n",
    "ax.plot(t,opt_params['light_curve'], color='r')\n",
    "ax1.plot(t, lc_true-opt_params['light_curve'], 'k-')\n",
    "ax1.plot(t,lc-opt_params['light_curve'], 'C0.')\n",
    "ax.set_ylabel(\"relative flux\")\n",
    "ax.set_xlabel(\"Time\");"
   ]
  },
  {
   "cell_type": "code",
   "execution_count": null,
   "metadata": {},
   "outputs": [],
   "source": [
    "CHAINS = 2\n",
    "#how to initialize each walker at a slightly different point away from the MLE\n",
    "init_pos_uncon = numpyro.infer.util.unconstrain_fn(model=model,model_args=(t, yerr, lc),model_kwargs={}, params=opt_params)\n",
    "init_pos_random = {}\n",
    "\n",
    "for key, value in init_pos_uncon.items():\n",
    "\n",
    "    if key == 'u' or key=='hk':\n",
    "\n",
    "        init_pos_random[key] = np.tile(init_pos_uncon[key][:,jnp.newaxis], (1,CHAINS)).T+np.random.normal(0, 0.01, (2,CHAINS)).T\n",
    "\n",
    "    else:\n",
    "        print(key)\n",
    "        if not (key == 'light_curve' or key =='flux' or key =='f' or key == 'theta' or key =='duration'):\n",
    "            init_pos_random[key] = np.tile(value, CHAINS)+np.random.normal(0, 0.01, (CHAINS,))"
   ]
  },
  {
   "cell_type": "code",
   "execution_count": null,
   "metadata": {},
   "outputs": [],
   "source": [
    "sampler_wn = infer.MCMC(\n",
    "    infer.NUTS(\n",
    "        model,\n",
    "        target_accept_prob=0.8,\n",
    "        dense_mass=True,\n",
    "        regularize_mass_matrix=False,\n",
    "        max_tree_depth=5\n",
    "    ),\n",
    "    num_warmup=1000,\n",
    "    num_samples=2000,\n",
    "    num_chains=2,\n",
    "    progress_bar=True,\n",
    ")\n",
    "%time sampler_wn.run(jax.random.PRNGKey(11), t, yerr, lc, init_params=init_pos_random)"
   ]
  },
  {
   "cell_type": "code",
   "execution_count": null,
   "metadata": {},
   "outputs": [],
   "source": [
    "inf_data_wn = az.from_numpyro(sampler_wn)\n",
    "az.summary(inf_data_wn, var_names=['r_circ', 'bo', 'u', 'f', 'theta', 'duration'])"
   ]
  },
  {
   "cell_type": "code",
   "execution_count": null,
   "metadata": {},
   "outputs": [],
   "source": [
    "az.summary(inf_data_wn, var_names=['r_circ', 'bo', 'u', 'hk', 'log_d'])['r_hat'].max()"
   ]
  },
  {
   "cell_type": "code",
   "execution_count": null,
   "metadata": {},
   "outputs": [],
   "source": [
    "inf_data_wn.to_netcdf(f\"average_radius_NUTS_10ppm_bo_{true_params['bo']}.h5\")"
   ]
  },
  {
   "cell_type": "code",
   "execution_count": null,
   "metadata": {},
   "outputs": [],
   "source": [
    "inf_data_wn = az.from_netcdf(\"average_radius_NUTS_10ppm.h5\")"
   ]
  },
  {
   "cell_type": "code",
   "execution_count": null,
   "metadata": {},
   "outputs": [],
   "source": [
    "sampler_wn.print_summary()"
   ]
  },
  {
   "cell_type": "code",
   "execution_count": null,
   "metadata": {},
   "outputs": [],
   "source": [
    "az.plot_trace(\n",
    "    inf_data_wn,\n",
    "    var_names=['r_circ', 'bo', 'u', 'hk', 'duration'],\n",
    "    backend_kwargs={\"constrained_layout\": True},\n",
    ")"
   ]
  },
  {
   "cell_type": "code",
   "execution_count": null,
   "metadata": {},
   "outputs": [],
   "source": [
    "h, k = jnp.sqrt(true_params['f']/2)*2*np.cos(2*true_params['theta']), jnp.sqrt(true_params['f']/2.)*2*np.sin(2*true_params['theta'])\n",
    "corner.corner(\n",
    "    inf_data_wn,\n",
    "    var_names=['r_circ', 'bo', 'u', 'hk','duration'],\n",
    "    #truths=[np.sqrt(true_params['radius']**2*(1-true_params['f'])), true_params['bo'], true_params['u'][0], true_params['u'][1], true_params['f'], true_params['theta'], true_params['duration']],\n",
    "    truths=[np.sqrt(true_params['radius']**2*(1-true_params['f'])), true_params['bo'], true_params['u'][0], true_params['u'][1], h, k, true_params['duration']],\n",
    "    show_titles=True,\n",
    "    quantiles=[0.16, 0.5, 0.84],\n",
    "    title_kwargs={\"fontsize\": 12},\n",
    "    label_kwargs={\"fontsize\": 15},\n",
    "    title_fmt=\".4f\",\n",
    ");\n",
    "#plt.savefig(\"100ppm_corner.png\",dpi=300)"
   ]
  },
  {
   "cell_type": "code",
   "execution_count": null,
   "metadata": {},
   "outputs": [],
   "source": [
    "import jax.numpy as jnp\n",
    "jnp.radians(35)\n",
    "jnp.degrees(0.575)"
   ]
  },
  {
   "cell_type": "markdown",
   "metadata": {},
   "source": [
    "### Oblate Nested Sampling Fit"
   ]
  },
  {
   "cell_type": "code",
   "execution_count": null,
   "metadata": {},
   "outputs": [],
   "source": [
    "from numpyro.contrib.nested_sampling import NestedSampler"
   ]
  },
  {
   "cell_type": "code",
   "execution_count": null,
   "metadata": {},
   "outputs": [],
   "source": [
    "ns = NestedSampler(model,constructor_kwargs={'num_parallel_samplers':40})\n",
    "ns.run(jax.random.PRNGKey(2), t, yerr, lc)\n",
    "\n",
    "ns_samples = ns.get_samples(jax.random.PRNGKey(121), num_samples=10000)"
   ]
  },
  {
   "cell_type": "code",
   "execution_count": null,
   "metadata": {},
   "outputs": [],
   "source": [
    "inf_data = az.from_dict(ns_samples, dropna=True)\n",
    "az.summary(inf_data, var_names=[\"log_jitter\", \"log_r\", \"u1\", \"u2\", \"bo\", \"f\", \"theta\"])\n"
   ]
  },
  {
   "cell_type": "code",
   "execution_count": null,
   "metadata": {},
   "outputs": [],
   "source": [
    "import matplotlib as mpl\n",
    "def plot_corner_diagnostics(samples, param_true):\n",
    "    mpl.rcParams['font.size'] = 12\n",
    "    ndim = len(samples.keys())\n",
    "    # This is the empirical mean of the sample:\n",
    "    value2 = np.mean(np.array(list(samples.values())),axis=1)\n",
    "    #True\n",
    "    value1 = param_true\n",
    "\n",
    "    # Make the base corner plot\n",
    "    # 68% et 95% quantiles 1D et levels in 2D\n",
    "    figure = corner.corner(samples,quantiles=(0.025, 0.158655, 0.841345, 0.975), levels=(0.68,0.95), \n",
    "                        show_titles=True, title_kwargs={\"fontsize\": 12}, \n",
    "                        truths=param_true, truth_color='g', color='b'\n",
    "                        );\n",
    "\n",
    "    # Extract the axes\n",
    "    axes = np.array(figure.axes).reshape((ndim, ndim))\n",
    "\n",
    "    # Loop over the diagonal\n",
    "    for i in range(ndim):\n",
    "        ax = axes[i, i]\n",
    "        ax.axvline(value2[i], color=\"r\")\n",
    "    \n",
    "    # Loop over the histograms\n",
    "    for idy in range(ndim):\n",
    "        for idx in range(idy):\n",
    "            ax = axes[idy, idx]\n",
    "            ax.axvline(value2[idx], color=\"r\")\n",
    "            ax.axhline(value2[idy], color=\"r\")\n",
    "            ax.plot(value2[idx], value2[idy], \"sr\")\n",
    "\n",
    "    plt.show()"
   ]
  },
  {
   "cell_type": "code",
   "execution_count": null,
   "metadata": {},
   "outputs": [],
   "source": [
    "flat_samples = []\n",
    "truth_list = []\n",
    "for i,v in enumerate(varnames):\n",
    "    flat_samples_i = ns_samples[v]\n",
    "    flat_samples.append(flat_samples_i)\n",
    "flat_samples = np.array(flat_samples)\n"
   ]
  },
  {
   "cell_type": "code",
   "execution_count": null,
   "metadata": {},
   "outputs": [],
   "source": [
    "import corner\n",
    "varnames = [\"log_jitter\", \"log_r\", \"u1\", \"u2\", \"bo\", \"f\", \"theta\"]\n",
    "fig = corner.corner(flat_samples.T,range=[0.001,1,1,1,1,1,1],labels=varnames,truth=[yerr,jnp.log(true_params['radius']),true_params['u'][0],true_params['u'][1],true_params['bo'],true_params['f'],true_params['theta']])\n",
    "plt.savefig('oblate_corner.png')"
   ]
  },
  {
   "cell_type": "code",
   "execution_count": null,
   "metadata": {},
   "outputs": [],
   "source": [
    "[yerr,jnp.log(true_params['radius']),true_params['u'][0],true_params['u'][1],true_params['bo'],true_params['f'],true_params['theta']]\n",
    "np.degrees(np.mean(flat_samples.T[:,6]))"
   ]
  },
  {
   "cell_type": "code",
   "execution_count": null,
   "metadata": {},
   "outputs": [],
   "source": []
  }
 ],
 "metadata": {
  "kernelspec": {
   "display_name": "py312",
   "language": "python",
   "name": "python3"
  },
  "language_info": {
   "codemirror_mode": {
    "name": "ipython",
    "version": 3
   },
   "file_extension": ".py",
   "mimetype": "text/x-python",
   "name": "python",
   "nbconvert_exporter": "python",
   "pygments_lexer": "ipython3",
   "version": "3.12.8"
  },
  "orig_nbformat": 4
 },
 "nbformat": 4,
 "nbformat_minor": 2
}
