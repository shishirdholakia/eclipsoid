{
 "cells": [
  {
   "cell_type": "code",
   "execution_count": 1,
   "id": "7349a99d",
   "metadata": {},
   "outputs": [],
   "source": [
    "import numpy as np\n",
    "import matplotlib.pyplot as plt\n",
    "from matplotlib.patches import Circle, Ellipse\n",
    "%matplotlib inline"
   ]
  },
  {
   "cell_type": "code",
   "execution_count": 2,
   "id": "1d8a0852",
   "metadata": {},
   "outputs": [],
   "source": [
    "import sympy as sp\n",
    "from sympy import symbols, sin, cos, Matrix, Eq, Rational, Poly, floor, sqrt\n",
    "from sympy import simplify, factorial, pi, binomial, factor, expand, collect, latex\n",
    "from sympy.functions.special.tensor_functions import KroneckerDelta\n",
    "from sympy import init_printing\n",
    "from ipywidgets import *\n",
    "from IPython.display import display, Math"
   ]
  },
  {
   "cell_type": "markdown",
   "id": "81f922c4",
   "metadata": {},
   "source": [
    "# Oblate Planet Integral Bounds:\n",
    "\n",
    "\n",
    "Recall that our integration will be performed along the boundary of a circular star and an elliptical planet. The integral in question is as follows: \n",
    "\n",
    "\n",
    "$$F = \\iint g_n(x, y) dS = \\oint\\mathbf{G_n}(x,y) \\cdot d\\mathbf{r} = Q(\\mathbf{G_n}) + P(\\mathbf{G_n})$$\n",
    "\n",
    "where $Q(\\mathbf{G_n})$ is the arc along the circular star and $P(\\mathbf{G_n})$ is the arc along the elliptical planet. We need to define these arcs as a function of certain variables and define the boundaries that the integrals will be performed along. \n",
    "\n",
    "## Circular planet:\n",
    "First, it helps to think about the circular case, where the star is parametrized as the unit circle:\n",
    "\n",
    "$$x^2 + y^2 = 1$$\n",
    "\n",
    "and the planet as an off-center circle with radius $r_{o}$ as:\n",
    "\n",
    "$$(x-x_o)^2-(y-y_o)^2 = r_o^2$$"
   ]
  },
  {
   "cell_type": "code",
   "execution_count": 3,
   "id": "a0abf64e",
   "metadata": {},
   "outputs": [],
   "source": [
    "def draw(b, r):\n",
    "    # Set up the figure\n",
    "    fig, ax = plt.subplots(1, figsize=(4, 4))\n",
    "    ax.set_xlim(min(-1.01, -r - 0.01), max(1.01, r + 0.01));\n",
    "    ax.set_ylim(-1.01, max(1.01, b + r + 0.01));\n",
    "    ax.set_aspect(1);\n",
    "    ax.axis('off');\n",
    "\n",
    "    # Draw the two bodies\n",
    "    occulted = Circle((0, 0), 1, fill=False, color='k')\n",
    "    ax.add_artist(occulted)\n",
    "    occulted_fill = Circle((0, 0), 1, fill=True, color='k',alpha=0.03)\n",
    "    ax.add_artist(occulted_fill)\n",
    "    occultor = Circle((0, b), r, fill=False, color='r')\n",
    "    occultor_fill = Circle((0, b), r, fill=True, color='r',alpha=0.03)\n",
    "    ax.add_artist(occultor_fill)\n",
    "    ax.add_artist(occultor)\n",
    "    ax.plot(0, 0, 'ko')\n",
    "    ax.plot(0, b, 'ro')\n",
    "\n",
    "    # Mark the points of intersection if they exist\n",
    "    if np.abs(1 - r) < b and b < 1 + r:\n",
    "        \n",
    "        # Lambda\n",
    "        lam = np.arcsin((1 - r * r + b * b) / (2 * b))\n",
    "        x = np.cos(lam)\n",
    "        y = np.sin(lam)\n",
    "        plt.plot([0, x], [0, y], 'k-', alpha=0.3)\n",
    "        plt.plot(x, y, 'ko', ms=5)\n",
    "        plt.plot(-x, y, 'ko', ms=5)\n",
    "        plt.plot([0, -x], [0, y], 'k-', alpha = 0.3)\n",
    "\n",
    "        # Phi\n",
    "        phi = np.arcsin((1 - r * r - b * b) / (2 * b * r))\n",
    "        x = r * np.cos(phi)\n",
    "        y = b + r * np.sin(phi)\n",
    "        plt.plot([0, x], [b, y], 'r-', alpha=0.3)\n",
    "        plt.plot(x, y, 'ro', ms=3)\n",
    "        plt.plot(-x, y, 'ro', ms=3)\n",
    "        plt.plot([0, -x], [b, y], 'r-', alpha = 0.3)"
   ]
  },
  {
   "cell_type": "code",
   "execution_count": 4,
   "id": "0be55009",
   "metadata": {},
   "outputs": [
    {
     "data": {
      "image/png": "[encoded data removed]",
      "text/plain": [
       "<Figure size 400x400 with 1 Axes>"
      ]
     },
     "metadata": {},
     "output_type": "display_data"
    }
   ],
   "source": [
    "draw(0.75, 0.5)"
   ]
  },
  {
   "cell_type": "markdown",
   "id": "3bf37b58",
   "metadata": {},
   "source": [
    "In this case, the intersection points, which mark the boundaries of the $Q$ and $P$ integrals, can simply be found by equating the two equations, where we rotate the coordinates such that the planet is along $\\mathbf{\\hat{y}}$:"
   ]
  },
  {
   "cell_type": "code",
   "execution_count": 5,
   "id": "5ab71cf0",
   "metadata": {},
   "outputs": [],
   "source": [
    "x0, y0, x, y = sp.symbols(\"x_\\mathrm{o} y_\\mathrm{o} x y\",real=True)\n",
    "b, r_p = sp.symbols(\"b r_\\mathrm{o}\",real=True,positive=True)"
   ]
  },
  {
   "cell_type": "code",
   "execution_count": 6,
   "id": "0ad200c6",
   "metadata": {},
   "outputs": [
    {
     "data": {
      "text/latex": [
       "$\\displaystyle 1 = x^{2} + y^{2}$"
      ],
      "text/plain": [
       "<IPython.core.display.Math object>"
      ]
     },
     "metadata": {},
     "output_type": "display_data"
    }
   ],
   "source": [
    "star = x**2+y**2 #The equation for the star\n",
    "display(Math(r'1 = ' + latex(star)))"
   ]
  },
  {
   "cell_type": "code",
   "execution_count": 7,
   "id": "90123773",
   "metadata": {},
   "outputs": [
    {
     "data": {
      "text/latex": [
       "$\\displaystyle r_o^2 = x^{2} + \\left(y - y_\\mathrm{o}\\right)^{2}$"
      ],
      "text/plain": [
       "<IPython.core.display.Math object>"
      ]
     },
     "metadata": {},
     "output_type": "display_data"
    }
   ],
   "source": [
    "planet = (x)**2 + (y-y0)**2 #The equation for the planet\n",
    "display(Math(r'r_o^2 = ' + latex(planet)))"
   ]
  },
  {
   "cell_type": "code",
   "execution_count": 8,
   "id": "75bb0577",
   "metadata": {},
   "outputs": [
    {
     "data": {
      "text/latex": [
       "$\\displaystyle y = \\frac{- r_\\mathrm{o}^{2} + y_\\mathrm{o}^{2} + 1}{2 y_\\mathrm{o}}$"
      ],
      "text/plain": [
       "<IPython.core.display.Math object>"
      ]
     },
     "metadata": {},
     "output_type": "display_data"
    }
   ],
   "source": [
    "display(Math(r'y = ' + latex(sp.solve((star-1)-(planet-r_p**2), y)[0])))"
   ]
  },
  {
   "cell_type": "markdown",
   "id": "cbfa02ce",
   "metadata": {},
   "source": [
    "Plugging y into the equation for the star (or the planet, but the star is easier), now yields a quadratic equation:"
   ]
  },
  {
   "cell_type": "code",
   "execution_count": 9,
   "id": "283d5a3d",
   "metadata": {},
   "outputs": [
    {
     "data": {
      "text/latex": [
       "$\\displaystyle 0 = \\frac{r_\\mathrm{o}^{4}}{4 y_\\mathrm{o}^{2}} - \\frac{r_\\mathrm{o}^{2}}{2} - \\frac{r_\\mathrm{o}^{2}}{2 y_\\mathrm{o}^{2}} + x^{2} + \\frac{y_\\mathrm{o}^{2}}{4} - \\frac{1}{2} + \\frac{1}{4 y_\\mathrm{o}^{2}}$"
      ],
      "text/plain": [
       "<IPython.core.display.Math object>"
      ]
     },
     "metadata": {},
     "output_type": "display_data"
    }
   ],
   "source": [
    "y_equals = sp.solve((star-1)-(planet-r_p**2), y)[0]\n",
    "quadratic = sp.solve((star-1)-(planet-r_p**2), y)[0]**2 + x**2 -1\n",
    "display(Math(r'0 = ' + latex(collect(expand(quadratic),x))))"
   ]
  },
  {
   "cell_type": "code",
   "execution_count": 10,
   "id": "18a27722",
   "metadata": {},
   "outputs": [
    {
     "data": {
      "text/latex": [
       "$\\displaystyle x = \\left[ - \\frac{\\sqrt{\\left(- r_\\mathrm{o} + y_\\mathrm{o} + 1\\right) \\left(r_\\mathrm{o} - y_\\mathrm{o} + 1\\right) \\left(r_\\mathrm{o} + y_\\mathrm{o} - 1\\right) \\left(r_\\mathrm{o} + y_\\mathrm{o} + 1\\right)}}{2 y_\\mathrm{o}}, \\  \\frac{\\sqrt{\\left(- r_\\mathrm{o} + y_\\mathrm{o} + 1\\right) \\left(r_\\mathrm{o} - y_\\mathrm{o} + 1\\right) \\left(r_\\mathrm{o} + y_\\mathrm{o} - 1\\right) \\left(r_\\mathrm{o} + y_\\mathrm{o} + 1\\right)}}{2 y_\\mathrm{o}}\\right]$"
      ],
      "text/plain": [
       "<IPython.core.display.Math object>"
      ]
     },
     "metadata": {},
     "output_type": "display_data"
    }
   ],
   "source": [
    "display(Math(r'x = ' + latex(sp.solve(x**2+y_equals**2-1, x))))"
   ]
  },
  {
   "cell_type": "markdown",
   "id": "37fa4495",
   "metadata": {},
   "source": [
    "## Oblate planet:\n",
    "\n",
    "The solution above looks ugly, but nevertheless, there is a closed form solution (two solutions, in fact), for the intersection points when a circular planet occults a circular star (in projection).\n",
    "\n",
    "In the oblate planet case, the boundaries of the integral are much harder, and result in a quartic equation. "
   ]
  },
  {
   "cell_type": "code",
   "execution_count": 11,
   "id": "a3d7e7ea",
   "metadata": {},
   "outputs": [],
   "source": [
    "def draw_oblate(b, xo, yo, ro):\n",
    "    # Set up the figure\n",
    "    #theta in degrees\n",
    "    fig, ax = plt.subplots(1, figsize=(5, 5))\n",
    "    ax.set_xlim(min(-1.01, xo - ro - 0.01), max(1.01, xo + ro + 0.01));\n",
    "    ax.set_ylim(min(-1.01, yo - ro - 0.01), max(1.01, yo + ro + 0.01));\n",
    "    ax.set_aspect(1);\n",
    "    ax.axis('off');\n",
    "\n",
    "    # Draw the star\n",
    "    occulted = Circle((0, 0), 1, fill=False, color='k')\n",
    "    occulted_fill = Circle((0, 0), 1, fill=True, color='k',alpha=0.03)\n",
    "    ax.add_artist(occulted)\n",
    "    ax.add_artist(occulted_fill)\n",
    "    \n",
    "    # Draw the planet, multiply semi major and semi minor axes by 2 to get major and minor axes\n",
    "    occultor = Ellipse((xo, yo), ro*2,ro*b*2, fill=False, color='r')\n",
    "    occultor_fill = Ellipse((xo, yo), ro*2,ro*b*2, fill=True, color='r',alpha=0.03)\n",
    "    ax.add_artist(occultor_fill)\n",
    "    ax.add_artist(occultor)\n",
    "\n",
    "    ax.plot(0, 0, 'ko')\n",
    "    ax.plot(xo, yo, 'ro')\n",
    "    return ax"
   ]
  },
  {
   "cell_type": "code",
   "execution_count": 12,
   "id": "e5079838",
   "metadata": {},
   "outputs": [
    {
     "data": {
      "text/latex": [
       "$\\displaystyle 1 = x^{2} + y^{2}$"
      ],
      "text/plain": [
       "<IPython.core.display.Math object>"
      ]
     },
     "metadata": {},
     "output_type": "display_data"
    }
   ],
   "source": [
    "star = x**2+y**2 #The equation for the star\n",
    "display(Math(r'1 = ' + latex(star)))"
   ]
  },
  {
   "cell_type": "code",
   "execution_count": 13,
   "id": "1d898a9f",
   "metadata": {},
   "outputs": [
    {
     "data": {
      "text/latex": [
       "$\\displaystyle r_o^2 = \\left(x - x_\\mathrm{o}\\right)^{2} + \\frac{\\left(y - y_\\mathrm{o}\\right)^{2}}{b^{2}}$"
      ],
      "text/plain": [
       "<IPython.core.display.Math object>"
      ]
     },
     "metadata": {},
     "output_type": "display_data"
    }
   ],
   "source": [
    "planet = (x-x0)**2 + (y-y0)**2/b**2 #The equation for the planet\n",
    "display(Math(r'r_o^2 = ' + latex(planet)))"
   ]
  },
  {
   "cell_type": "markdown",
   "id": "76b37617",
   "metadata": {},
   "source": [
    "Now expand out $(y-y_0)^2$ as follows:\n",
    "\n",
    "$$\\frac{y^{2} - 2 y y_\\mathrm{o} + y_\\mathrm{o}^{2}}{b^2} = r_{\\mathrm{o}}^{2} - \\left(x - x_\\mathrm{o}\\right)^{2}$$\n",
    "\n",
    "then, substitute $y^2$ with a function of x"
   ]
  },
  {
   "cell_type": "code",
   "execution_count": 14,
   "id": "fec979cc",
   "metadata": {},
   "outputs": [
    {
     "data": {
      "text/latex": [
       "$\\displaystyle y^2 = b^{2} \\left(r_\\mathrm{o}^{2} - \\left(x - x_\\mathrm{o}\\right)^{2}\\right) + 2 y y_\\mathrm{o} - y_\\mathrm{o}^{2}$"
      ],
      "text/plain": [
       "<IPython.core.display.Math object>"
      ]
     },
     "metadata": {},
     "output_type": "display_data"
    }
   ],
   "source": [
    "y_squared = (r_p**2-(x-x0)**2)*b**2 + 2*y*y0-y0**2\n",
    "display(Math(r'y^2 = ' + latex(y_squared)))"
   ]
  },
  {
   "cell_type": "markdown",
   "id": "23087ca6",
   "metadata": {},
   "source": [
    "Set $y^2$ terms equal to each other:"
   ]
  },
  {
   "cell_type": "code",
   "execution_count": 15,
   "id": "0d08c9ff",
   "metadata": {},
   "outputs": [
    {
     "data": {
      "text/latex": [
       "$\\displaystyle 0 = b^{2} \\left(r_\\mathrm{o}^{2} - \\left(x - x_\\mathrm{o}\\right)^{2}\\right) + x^{2} + 2 y y_\\mathrm{o} - y_\\mathrm{o}^{2} - 1$"
      ],
      "text/plain": [
       "<IPython.core.display.Math object>"
      ]
     },
     "metadata": {},
     "output_type": "display_data"
    }
   ],
   "source": [
    "display(Math(r'0 = ' + latex(y_squared-(1-x**2))))"
   ]
  },
  {
   "cell_type": "markdown",
   "id": "d5819ba2",
   "metadata": {},
   "source": [
    "Now finally, solve for y:"
   ]
  },
  {
   "cell_type": "code",
   "execution_count": 16,
   "id": "b4151c7d",
   "metadata": {},
   "outputs": [
    {
     "data": {
      "text/latex": [
       "$\\displaystyle y = \\frac{- b^{2} r_\\mathrm{o}^{2} + b^{2} \\left(x - x_\\mathrm{o}\\right)^{2} - x^{2} + y_\\mathrm{o}^{2} + 1}{2 y_\\mathrm{o}}$"
      ],
      "text/plain": [
       "<IPython.core.display.Math object>"
      ]
     },
     "metadata": {},
     "output_type": "display_data"
    }
   ],
   "source": [
    "display(Math(r'y = ' + latex(sp.solve(((1-x**2) - y_squared), y)[0])))"
   ]
  },
  {
   "cell_type": "code",
   "execution_count": 17,
   "id": "de09271e",
   "metadata": {},
   "outputs": [
    {
     "data": {
      "text/latex": [
       "$\\displaystyle \\frac{b^{4} r_\\mathrm{o}^{4}}{4 y_\\mathrm{o}^{2}} - \\frac{b^{4} r_\\mathrm{o}^{2} x_\\mathrm{o}^{2}}{2 y_\\mathrm{o}^{2}} + \\frac{b^{4} x_\\mathrm{o}^{4}}{4 y_\\mathrm{o}^{2}} - \\frac{b^{2} r_\\mathrm{o}^{2}}{2} - \\frac{b^{2} r_\\mathrm{o}^{2}}{2 y_\\mathrm{o}^{2}} + \\frac{b^{2} x_\\mathrm{o}^{2}}{2} + \\frac{b^{2} x_\\mathrm{o}^{2}}{2 y_\\mathrm{o}^{2}} + x^{4} \\left(\\frac{b^{4}}{4 y_\\mathrm{o}^{2}} - \\frac{b^{2}}{2 y_\\mathrm{o}^{2}} + \\frac{1}{4 y_\\mathrm{o}^{2}}\\right) + x^{3} \\left(- \\frac{b^{4} x_\\mathrm{o}}{y_\\mathrm{o}^{2}} + \\frac{b^{2} x_\\mathrm{o}}{y_\\mathrm{o}^{2}}\\right) + x^{2} \\left(- \\frac{b^{4} r_\\mathrm{o}^{2}}{2 y_\\mathrm{o}^{2}} + \\frac{3 b^{4} x_\\mathrm{o}^{2}}{2 y_\\mathrm{o}^{2}} + \\frac{b^{2} r_\\mathrm{o}^{2}}{2 y_\\mathrm{o}^{2}} - \\frac{b^{2} x_\\mathrm{o}^{2}}{2 y_\\mathrm{o}^{2}} + \\frac{b^{2}}{2} + \\frac{b^{2}}{2 y_\\mathrm{o}^{2}} + \\frac{1}{2} - \\frac{1}{2 y_\\mathrm{o}^{2}}\\right) + x \\left(\\frac{b^{4} r_\\mathrm{o}^{2} x_\\mathrm{o}}{y_\\mathrm{o}^{2}} - \\frac{b^{4} x_\\mathrm{o}^{3}}{y_\\mathrm{o}^{2}} - b^{2} x_\\mathrm{o} - \\frac{b^{2} x_\\mathrm{o}}{y_\\mathrm{o}^{2}}\\right) + \\frac{y_\\mathrm{o}^{2}}{4} - \\frac{1}{2} + \\frac{1}{4 y_\\mathrm{o}^{2}}$"
      ],
      "text/plain": [
       "b**4*r_\\mathrm{o}**4/(4*y_\\mathrm{o}**2) - b**4*r_\\mathrm{o}**2*x_\\mathrm{o}**2/(2*y_\\mathrm{o}**2) + b**4*x_\\mathrm{o}**4/(4*y_\\mathrm{o}**2) - b**2*r_\\mathrm{o}**2/2 - b**2*r_\\mathrm{o}**2/(2*y_\\mathrm{o}**2) + b**2*x_\\mathrm{o}**2/2 + b**2*x_\\mathrm{o}**2/(2*y_\\mathrm{o}**2) + x**4*(b**4/(4*y_\\mathrm{o}**2) - b**2/(2*y_\\mathrm{o}**2) + 1/(4*y_\\mathrm{o}**2)) + x**3*(-b**4*x_\\mathrm{o}/y_\\mathrm{o}**2 + b**2*x_\\mathrm{o}/y_\\mathrm{o}**2) + x**2*(-b**4*r_\\mathrm{o}**2/(2*y_\\mathrm{o}**2) + 3*b**4*x_\\mathrm{o}**2/(2*y_\\mathrm{o}**2) + b**2*r_\\mathrm{o}**2/(2*y_\\mathrm{o}**2) - b**2*x_\\mathrm{o}**2/(2*y_\\mathrm{o}**2) + b**2/2 + b**2/(2*y_\\mathrm{o}**2) + 1/2 - 1/(2*y_\\mathrm{o}**2)) + x*(b**4*r_\\mathrm{o}**2*x_\\mathrm{o}/y_\\mathrm{o}**2 - b**4*x_\\mathrm{o}**3/y_\\mathrm{o}**2 - b**2*x_\\mathrm{o} - b**2*x_\\mathrm{o}/y_\\mathrm{o}**2) + y_\\mathrm{o}**2/4 - 1/2 + 1/(4*y_\\mathrm{o}**2)"
      ]
     },
     "execution_count": 17,
     "metadata": {},
     "output_type": "execute_result"
    }
   ],
   "source": [
    "quartic = (sp.solve(((1-x**2) - y_squared), y)[0])**2 - (1-x**2)\n",
    "quartic = collect(expand(quartic),x)\n",
    "quartic"
   ]
  },
  {
   "cell_type": "markdown",
   "id": "76037669",
   "metadata": {},
   "source": [
    "Finally, we have a polynomial of the form: $$Ax^4 + Bx^3 + Cx^2 + Dx + E = 0$$\n",
    "\n",
    "where A, B, C, D and E are given below (yes it's complicated):"
   ]
  },
  {
   "cell_type": "code",
   "execution_count": 18,
   "id": "df3795ca",
   "metadata": {},
   "outputs": [
    {
     "data": {
      "text/latex": [
       "$\\displaystyle \\frac{b^{4} r_\\mathrm{o}^{4}}{4 y_\\mathrm{o}^{2}} - \\frac{b^{4} r_\\mathrm{o}^{2} x_\\mathrm{o}^{2}}{2 y_\\mathrm{o}^{2}} + \\frac{b^{4} x_\\mathrm{o}^{4}}{4 y_\\mathrm{o}^{2}} - \\frac{b^{2} r_\\mathrm{o}^{2}}{2} - \\frac{b^{2} r_\\mathrm{o}^{2}}{2 y_\\mathrm{o}^{2}} + \\frac{b^{2} x_\\mathrm{o}^{2}}{2} + \\frac{b^{2} x_\\mathrm{o}^{2}}{2 y_\\mathrm{o}^{2}} + x^{4} \\left(\\frac{b^{4}}{4 y_\\mathrm{o}^{2}} - \\frac{b^{2}}{2 y_\\mathrm{o}^{2}} + \\frac{1}{4 y_\\mathrm{o}^{2}}\\right) + x^{3} \\left(- \\frac{b^{4} x_\\mathrm{o}}{y_\\mathrm{o}^{2}} + \\frac{b^{2} x_\\mathrm{o}}{y_\\mathrm{o}^{2}}\\right) + x^{2} \\left(- \\frac{b^{4} r_\\mathrm{o}^{2}}{2 y_\\mathrm{o}^{2}} + \\frac{3 b^{4} x_\\mathrm{o}^{2}}{2 y_\\mathrm{o}^{2}} + \\frac{b^{2} r_\\mathrm{o}^{2}}{2 y_\\mathrm{o}^{2}} - \\frac{b^{2} x_\\mathrm{o}^{2}}{2 y_\\mathrm{o}^{2}} + \\frac{b^{2}}{2} + \\frac{b^{2}}{2 y_\\mathrm{o}^{2}} + \\frac{1}{2} - \\frac{1}{2 y_\\mathrm{o}^{2}}\\right) + x \\left(\\frac{b^{4} r_\\mathrm{o}^{2} x_\\mathrm{o}}{y_\\mathrm{o}^{2}} - \\frac{b^{4} x_\\mathrm{o}^{3}}{y_\\mathrm{o}^{2}} - b^{2} x_\\mathrm{o} - \\frac{b^{2} x_\\mathrm{o}}{y_\\mathrm{o}^{2}}\\right) + \\frac{y_\\mathrm{o}^{2}}{4} - \\frac{1}{2} + \\frac{1}{4 y_\\mathrm{o}^{2}}$"
      ],
      "text/plain": [
       "b**4*r_\\mathrm{o}**4/(4*y_\\mathrm{o}**2) - b**4*r_\\mathrm{o}**2*x_\\mathrm{o}**2/(2*y_\\mathrm{o}**2) + b**4*x_\\mathrm{o}**4/(4*y_\\mathrm{o}**2) - b**2*r_\\mathrm{o}**2/2 - b**2*r_\\mathrm{o}**2/(2*y_\\mathrm{o}**2) + b**2*x_\\mathrm{o}**2/2 + b**2*x_\\mathrm{o}**2/(2*y_\\mathrm{o}**2) + x**4*(b**4/(4*y_\\mathrm{o}**2) - b**2/(2*y_\\mathrm{o}**2) + 1/(4*y_\\mathrm{o}**2)) + x**3*(-b**4*x_\\mathrm{o}/y_\\mathrm{o}**2 + b**2*x_\\mathrm{o}/y_\\mathrm{o}**2) + x**2*(-b**4*r_\\mathrm{o}**2/(2*y_\\mathrm{o}**2) + 3*b**4*x_\\mathrm{o}**2/(2*y_\\mathrm{o}**2) + b**2*r_\\mathrm{o}**2/(2*y_\\mathrm{o}**2) - b**2*x_\\mathrm{o}**2/(2*y_\\mathrm{o}**2) + b**2/2 + b**2/(2*y_\\mathrm{o}**2) + 1/2 - 1/(2*y_\\mathrm{o}**2)) + x*(b**4*r_\\mathrm{o}**2*x_\\mathrm{o}/y_\\mathrm{o}**2 - b**4*x_\\mathrm{o}**3/y_\\mathrm{o}**2 - b**2*x_\\mathrm{o} - b**2*x_\\mathrm{o}/y_\\mathrm{o}**2) + y_\\mathrm{o}**2/4 - 1/2 + 1/(4*y_\\mathrm{o}**2)"
      ]
     },
     "execution_count": 18,
     "metadata": {},
     "output_type": "execute_result"
    }
   ],
   "source": [
    "collect(expand(simplify(quartic)),x)"
   ]
  },
  {
   "cell_type": "code",
   "execution_count": 19,
   "id": "f68a5830",
   "metadata": {},
   "outputs": [],
   "source": [
    "A, B, C, D, E = Poly(quartic,x).coeffs()"
   ]
  },
  {
   "cell_type": "code",
   "execution_count": 20,
   "id": "c8ffce88",
   "metadata": {},
   "outputs": [
    {
     "data": {
      "text/latex": [
       "$\\displaystyle \\frac{b^{4} - 2 b^{2} + 1}{4 y_\\mathrm{o}^{2}}$"
      ],
      "text/plain": [
       "(b**4 - 2*b**2 + 1)/(4*y_\\mathrm{o}**2)"
      ]
     },
     "execution_count": 20,
     "metadata": {},
     "output_type": "execute_result"
    }
   ],
   "source": [
    "simplify(A)"
   ]
  },
  {
   "cell_type": "code",
   "execution_count": 21,
   "id": "7a6791b6",
   "metadata": {},
   "outputs": [
    {
     "data": {
      "text/latex": [
       "$\\displaystyle \\frac{b^{2} x_\\mathrm{o} \\left(1 - b^{2}\\right)}{y_\\mathrm{o}^{2}}$"
      ],
      "text/plain": [
       "b**2*x_\\mathrm{o}*(1 - b**2)/y_\\mathrm{o}**2"
      ]
     },
     "execution_count": 21,
     "metadata": {},
     "output_type": "execute_result"
    }
   ],
   "source": [
    "simplify(B)"
   ]
  },
  {
   "cell_type": "code",
   "execution_count": 22,
   "id": "3999224e",
   "metadata": {},
   "outputs": [
    {
     "data": {
      "text/latex": [
       "$\\displaystyle \\frac{- b^{4} r_\\mathrm{o}^{2} + 3 b^{4} x_\\mathrm{o}^{2} + b^{2} r_\\mathrm{o}^{2} - b^{2} x_\\mathrm{o}^{2} + b^{2} y_\\mathrm{o}^{2} + b^{2} + y_\\mathrm{o}^{2} - 1}{2 y_\\mathrm{o}^{2}}$"
      ],
      "text/plain": [
       "(-b**4*r_\\mathrm{o}**2 + 3*b**4*x_\\mathrm{o}**2 + b**2*r_\\mathrm{o}**2 - b**2*x_\\mathrm{o}**2 + b**2*y_\\mathrm{o}**2 + b**2 + y_\\mathrm{o}**2 - 1)/(2*y_\\mathrm{o}**2)"
      ]
     },
     "execution_count": 22,
     "metadata": {},
     "output_type": "execute_result"
    }
   ],
   "source": [
    "simplify(C)"
   ]
  },
  {
   "cell_type": "code",
   "execution_count": 23,
   "id": "80f1b500",
   "metadata": {},
   "outputs": [
    {
     "data": {
      "text/latex": [
       "$\\displaystyle \\frac{b^{2} x_\\mathrm{o} \\left(b^{2} r_\\mathrm{o}^{2} - b^{2} x_\\mathrm{o}^{2} - y_\\mathrm{o}^{2} - 1\\right)}{y_\\mathrm{o}^{2}}$"
      ],
      "text/plain": [
       "b**2*x_\\mathrm{o}*(b**2*r_\\mathrm{o}**2 - b**2*x_\\mathrm{o}**2 - y_\\mathrm{o}**2 - 1)/y_\\mathrm{o}**2"
      ]
     },
     "execution_count": 23,
     "metadata": {},
     "output_type": "execute_result"
    }
   ],
   "source": [
    "simplify(D)"
   ]
  },
  {
   "cell_type": "code",
   "execution_count": 24,
   "id": "8bd97b16",
   "metadata": {},
   "outputs": [
    {
     "data": {
      "text/latex": [
       "$\\displaystyle \\frac{b^{4} r_\\mathrm{o}^{4} - 2 b^{4} r_\\mathrm{o}^{2} x_\\mathrm{o}^{2} + b^{4} x_\\mathrm{o}^{4} - 2 b^{2} r_\\mathrm{o}^{2} y_\\mathrm{o}^{2} - 2 b^{2} r_\\mathrm{o}^{2} + 2 b^{2} x_\\mathrm{o}^{2} y_\\mathrm{o}^{2} + 2 b^{2} x_\\mathrm{o}^{2} + y_\\mathrm{o}^{4} - 2 y_\\mathrm{o}^{2} + 1}{4 y_\\mathrm{o}^{2}}$"
      ],
      "text/plain": [
       "(b**4*r_\\mathrm{o}**4 - 2*b**4*r_\\mathrm{o}**2*x_\\mathrm{o}**2 + b**4*x_\\mathrm{o}**4 - 2*b**2*r_\\mathrm{o}**2*y_\\mathrm{o}**2 - 2*b**2*r_\\mathrm{o}**2 + 2*b**2*x_\\mathrm{o}**2*y_\\mathrm{o}**2 + 2*b**2*x_\\mathrm{o}**2 + y_\\mathrm{o}**4 - 2*y_\\mathrm{o}**2 + 1)/(4*y_\\mathrm{o}**2)"
      ]
     },
     "execution_count": 24,
     "metadata": {},
     "output_type": "execute_result"
    }
   ],
   "source": [
    "simplify(E)"
   ]
  },
  {
   "cell_type": "code",
   "execution_count": 25,
   "id": "ce2bb123",
   "metadata": {},
   "outputs": [],
   "source": [
    "def coeffs(b, xo, yo, ro):\n",
    "    \"\"\"\n",
    "    Polynomial coefficients A, B, C, D and E coded up as a python function.\n",
    "    \"\"\"\n",
    "    A = (b**4 - 2*b**2 + 1)/(4*yo**2)\n",
    "    B = (-b**4*xo + b**2*xo)/yo**2\n",
    "    C = (-b**4*ro**2 + 3*b**4*xo**2 + b**2*ro**2 - b**2*xo**2 + b**2*yo**2 + b**2 + yo**2 - 1)/(2*yo**2)\n",
    "    D = (b**4*ro**2*xo - b**4*xo**3 - b**2*xo*yo**2 - b**2*xo)/yo**2\n",
    "    E = (b**4*ro**4 - 2*b**4*ro**2*xo**2 + b**4*xo**4 - 2*b**2*ro**2*yo**2 - 2*b**2*ro**2 + 2*b**2*xo**2*yo**2 + 2*b**2*xo**2 + yo**4 - 2*yo**2 + 1)/(4*yo**2)\n",
    "    return np.array([A, B, C, D, E])"
   ]
  },
  {
   "cell_type": "markdown",
   "id": "5e2475ea",
   "metadata": {},
   "source": [
    "# Four cases:\n",
    "\n",
    "As a result of the quartic equation, there are 4 possible cases depending on how many real roots the quartic solution has. These are enumerated below:\n",
    "\n",
    "## Case 1 (no intersections):\n",
    "\n",
    "If there are no real roots to the quartic, the planet may be entirely inside the star, or entirely outside"
   ]
  },
  {
   "cell_type": "code",
   "execution_count": 26,
   "id": "17700a8b",
   "metadata": {},
   "outputs": [],
   "source": [
    "ro = 0.4\n",
    "b = 1-0.3 # (b=1-f)\n",
    "xo = 0.1\n",
    "yo = 0.1\n",
    "coeff = coeffs(b, xo, yo, ro)\n",
    "r=np.roots(coeff)\n",
    "x_real = r.real[np.abs(r.imag)<1e-5]\n",
    "y_real = (-b**2*ro**2 + b**2*(x_real - xo)**2 - x_real**2 + yo**2 + 1)/(2*yo)"
   ]
  },
  {
   "cell_type": "code",
   "execution_count": 27,
   "id": "d3a89b8e",
   "metadata": {},
   "outputs": [
    {
     "data": {
      "image/png": "[encoded data removed]",
      "text/plain": [
       "<Figure size 500x500 with 1 Axes>"
      ]
     },
     "metadata": {},
     "output_type": "display_data"
    }
   ],
   "source": [
    "ax = draw_oblate(b, xo, yo, ro)\n",
    "ax.plot(x_real, y_real, 'ko');"
   ]
  },
  {
   "cell_type": "code",
   "execution_count": 28,
   "id": "ec4c641f",
   "metadata": {},
   "outputs": [],
   "source": [
    "ro = 0.4\n",
    "b = 1-0.3 # (b=1-f)\n",
    "xo = 1.5\n",
    "yo = 0.9\n",
    "coeff = coeffs(b, xo, yo, ro)\n",
    "r=np.roots(coeff)\n",
    "x_real = r.real[np.abs(r.imag)<1e-5]\n",
    "y_real = (-b**2*ro**2 + b**2*(x_real - xo)**2 - x_real**2 + yo**2 + 1)/(2*yo)"
   ]
  },
  {
   "cell_type": "code",
   "execution_count": 29,
   "id": "7af36566",
   "metadata": {},
   "outputs": [
    {
     "data": {
      "image/png": "[encoded data removed]",
      "text/plain": [
       "<Figure size 500x500 with 1 Axes>"
      ]
     },
     "metadata": {},
     "output_type": "display_data"
    }
   ],
   "source": [
    "ax = draw_oblate(b, xo, yo, ro)\n",
    "ax.plot(x_real, y_real, 'ko');"
   ]
  },
  {
   "cell_type": "markdown",
   "id": "c4cb5154",
   "metadata": {},
   "source": [
    "## Case 2 (one intersection):\n",
    "\n",
    "In an edge case, the planet may have exactly one point intersecting the star"
   ]
  },
  {
   "cell_type": "code",
   "execution_count": 30,
   "id": "914a5037",
   "metadata": {},
   "outputs": [],
   "source": [
    "ro = 0.4\n",
    "b = 1-0.3 # (b=1-f)\n",
    "xo = -0.6\n",
    "yo = 0.001 #division by 0 error if 0\n",
    "coeff = coeffs(b, xo, yo, ro)\n",
    "r=np.roots(coeff)\n",
    "x_real = r.real[np.abs(r.imag)<1e-5]\n",
    "y_real = (-b**2*ro**2 + b**2*(x_real - xo)**2 - x_real**2 + yo**2 + 1)/(2*yo)"
   ]
  },
  {
   "cell_type": "code",
   "execution_count": 31,
   "id": "bdac1ff9",
   "metadata": {},
   "outputs": [
    {
     "data": {
      "image/png": "[encoded data removed]",
      "text/plain": [
       "<Figure size 500x500 with 1 Axes>"
      ]
     },
     "metadata": {},
     "output_type": "display_data"
    }
   ],
   "source": [
    "ax = draw_oblate(b, xo, yo, ro)\n",
    "ax.plot(x_real, y_real, 'ko');"
   ]
  },
  {
   "cell_type": "markdown",
   "id": "95e40df9",
   "metadata": {},
   "source": [
    "## Case 3 (two intersections):\n",
    "\n",
    "In the vast majority of real life scenarios of a planet where $r_{\\mathrm{planet}} << r_{\\mathrm{star}}$ during ingress and egress, there will be two intersection points"
   ]
  },
  {
   "cell_type": "code",
   "execution_count": 32,
   "id": "7933d298",
   "metadata": {},
   "outputs": [],
   "source": [
    "ro = 0.4\n",
    "b = 1-0.3 # (b=1-f)\n",
    "xo = 0.8\n",
    "yo = 0.4 #division by 0 error if 0\n",
    "coeff = coeffs(b, xo, yo, ro)\n",
    "r=np.roots(coeff)\n",
    "x_real = r.real[np.abs(r.imag)<1e-5]\n",
    "y_real = (-b**2*ro**2 + b**2*(x_real - xo)**2 - x_real**2 + yo**2 + 1)/(2*yo)"
   ]
  },
  {
   "cell_type": "code",
   "execution_count": 33,
   "id": "a3b908d6",
   "metadata": {},
   "outputs": [
    {
     "data": {
      "image/png": "[encoded data removed]",
      "text/plain": [
       "<Figure size 500x500 with 1 Axes>"
      ]
     },
     "metadata": {},
     "output_type": "display_data"
    }
   ],
   "source": [
    "ax = draw_oblate(b, xo, yo, ro)\n",
    "ax.plot(x_real, y_real, 'ko');"
   ]
  },
  {
   "cell_type": "markdown",
   "id": "614b20d4",
   "metadata": {},
   "source": [
    "## Case 4 (four intersections):\n",
    "\n",
    "If the occultor is about the same size as the occulted object, there may be 4 intersections. Note that this cannot happen for two circular objects. "
   ]
  },
  {
   "cell_type": "code",
   "execution_count": 34,
   "id": "679c23fc",
   "metadata": {},
   "outputs": [],
   "source": [
    "ro = 1.0\n",
    "b = 1-0.3 # (b=1-f)\n",
    "xo = 0.001\n",
    "yo = 0.2 #division by 0 error if 0\n",
    "coeff = coeffs(b, xo, yo, ro)\n",
    "r=np.roots(coeff)\n",
    "x_real = r.real[np.abs(r.imag)<1e-5]\n",
    "y_real = (-b**2*ro**2 + b**2*(x_real - xo)**2 - x_real**2 + yo**2 + 1)/(2*yo)"
   ]
  },
  {
   "cell_type": "code",
   "execution_count": 35,
   "id": "6d865921",
   "metadata": {},
   "outputs": [
    {
     "data": {
      "image/png": "[encoded data removed]",
      "text/plain": [
       "<Figure size 500x500 with 1 Axes>"
      ]
     },
     "metadata": {},
     "output_type": "display_data"
    }
   ],
   "source": [
    "ax = draw_oblate(b, xo, yo, ro)\n",
    "ax.plot(x_real, y_real, 'ko');"
   ]
  }
 ],
 "metadata": {
  "kernelspec": {
   "display_name": "Python 3 (ipykernel)",
   "language": "python",
   "name": "python3"
  },
  "language_info": {
   "codemirror_mode": {
    "name": "ipython",
    "version": 3
   },
   "file_extension": ".py",
   "mimetype": "text/x-python",
   "name": "python",
   "nbconvert_exporter": "python",
   "pygments_lexer": "ipython3",
   "version": "3.9.15"
  }
 },
 "nbformat": 4,
 "nbformat_minor": 5
}
