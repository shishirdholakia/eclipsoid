{
 "cells": [
  {
   "cell_type": "code",
   "execution_count": 1,
   "metadata": {},
   "outputs": [],
   "source": [
    "from eclipsoid.light_curve import limb_dark_oblate_lightcurve\n",
    "\n",
    "from jaxoplanet.light_curves import limb_dark_light_curve\n",
    "from jaxoplanet.orbits import TransitOrbit\n",
    "import jax\n",
    "import jax.numpy as jnp"
   ]
  },
  {
   "cell_type": "code",
   "execution_count": 7,
   "metadata": {},
   "outputs": [],
   "source": [
    "params = {\n",
    "    'period':300.456,\n",
    "    'radius':0.1,\n",
    "    'u':jnp.array([0.3,0.2, 0.1, 0.1]),\n",
    "    'f':0.,\n",
    "    'bo':0.8,\n",
    "    'duration':0.4,\n",
    "    'theta':0.\n",
    "}\n",
    "\n",
    "orbit = TransitOrbit(\n",
    "    period=params['period'], time_transit=0., duration=params['duration'], impact_param=params['bo'], radius_ratio=params['radius']\n",
    ")\n",
    "\n",
    "t = jnp.linspace(-0.5, 0.5, 100)\n",
    "lc = limb_dark_light_curve(orbit, params['u'])(t)\n",
    "\n",
    "oblate_lc = limb_dark_oblate_lightcurve(orbit, params['u'], params['f'], params['theta'])(t)"
   ]
  },
  {
   "cell_type": "code",
   "execution_count": null,
   "metadata": {},
   "outputs": [],
   "source": [
    "import matplotlib.pyplot as plt\n",
    "plt.plot(t, lc, color=\"C0\", label='jaxoplanet')\n",
    "plt.plot(t, oblate_lc-1., color=\"C1\", label='jax0planet')\n",
    "plt.plot(t, oblate_lc_fast-1., color=\"C3\", label='jax0planet analytic')\n",
    "\n",
    "plt.plot(t, legacy_oblate_lc-1., color=\"C2\", label='jax0planet')\n",
    "\n",
    "plt.legend()"
   ]
  },
  {
   "cell_type": "code",
   "execution_count": null,
   "metadata": {},
   "outputs": [],
   "source": [
    "plt.plot(t, lc-(oblate_lc-1.), label='jaxoplanet - eclipsoid')\n",
    "plt.plot(t, lc-(oblate_lc_fast-1.), label='jaxoplanet - eclipsoid_fast')\n",
    "plt.legend()"
   ]
  },
  {
   "cell_type": "code",
   "execution_count": null,
   "metadata": {},
   "outputs": [],
   "source": [
    "from jaxoplanet.orbits.keplerian import Central\n",
    "central = Central(radius=1.0, mass=0.8)\n",
    "oblate_system = OblateSystem(central).add_body(\n",
    "    radius=0.1, mass=0.1, period=300.456, f=0.0, theta=10.0\n",
    ")"
   ]
  },
  {
   "cell_type": "code",
   "execution_count": null,
   "metadata": {},
   "outputs": [],
   "source": [
    "jit_lc = jax.jit(limb_dark_light_curve(orbit, params['u']))\n",
    "circ_lc = jit_lc(t)"
   ]
  },
  {
   "cell_type": "code",
   "execution_count": null,
   "metadata": {},
   "outputs": [],
   "source": [
    "oblate_lc_jit = jax.jit(oblate_lightcurve_numerical(orbit=oblate_system, u=params['u']))\n",
    "oblate_lc_fast_jit = jax.jit(oblate_lightcurve(orbit=oblate_system, u=params['u']))\n",
    "\n",
    "oblate_lc_system = oblate_lc_jit(time=t)"
   ]
  },
  {
   "cell_type": "code",
   "execution_count": null,
   "metadata": {},
   "outputs": [],
   "source": [
    "%%timeit\n",
    "circ_lc = jit_lc(t).block_until_ready()"
   ]
  },
  {
   "cell_type": "code",
   "execution_count": null,
   "metadata": {},
   "outputs": [],
   "source": [
    "%%timeit\n",
    "oblate_lc_system = oblate_lc_jit(time=t).block_until_ready()"
   ]
  },
  {
   "cell_type": "code",
   "execution_count": null,
   "metadata": {},
   "outputs": [],
   "source": [
    "%%timeit\n",
    "oblate_lc_system = oblate_lc_fast_jit(time=t).block_until_ready()"
   ]
  },
  {
   "cell_type": "code",
   "execution_count": null,
   "metadata": {},
   "outputs": [],
   "source": [
    "plt.plot(t, oblate_lc_system, color=\"C2\", label='jax0planet system')"
   ]
  },
  {
   "cell_type": "markdown",
   "metadata": {},
   "source": [
    "## Testing out exposure time integration:"
   ]
  },
  {
   "cell_type": "code",
   "execution_count": null,
   "metadata": {},
   "outputs": [],
   "source": [
    "from jaxoplanet.light_curves.transforms import integrate\n",
    "from jaxoplanet.units import unit_registry as ureg\n",
    "lc_integrated = integrate(oblate_lightcurve(orbit=oblate_orbit, u=params['u']), exposure_time=0.5*ureg.hour)"
   ]
  },
  {
   "cell_type": "code",
   "execution_count": null,
   "metadata": {},
   "outputs": [],
   "source": [
    "oblate_lc_integrated = lc_integrated(time=t)\n",
    "plt.plot(t, oblate_lc)\n",
    "plt.plot(t, oblate_lc_integrated, color=\"C3\", label='jax0planet integrated')"
   ]
  }
 ],
 "metadata": {
  "kernelspec": {
   "display_name": "jax",
   "language": "python",
   "name": "python3"
  },
  "language_info": {
   "codemirror_mode": {
    "name": "ipython",
    "version": 3
   },
   "file_extension": ".py",
   "mimetype": "text/x-python",
   "name": "python",
   "nbconvert_exporter": "python",
   "pygments_lexer": "ipython3",
   "version": "3.11.9"
  }
 },
 "nbformat": 4,
 "nbformat_minor": 2
}
